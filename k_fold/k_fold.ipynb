{
 "cells": [
  {
   "cell_type": "code",
   "execution_count": 264,
   "metadata": {},
   "outputs": [],
   "source": [
    "from sklearn.neighbors import KNeighborsClassifier\n",
    "from sklearn.tree import DecisionTreeClassifier\n",
    "from sklearn.model_selection import train_test_split\n",
    "from sklearn.metrics import accuracy_score\n",
    "from sklearn.model_selection import KFold\n",
    "from sklearn.datasets import load_breast_cancer\n",
    "import numpy as np\n",
    "import pandas as pd\n",
    "import itertools as it"
   ]
  },
  {
   "cell_type": "code",
   "execution_count": 265,
   "metadata": {},
   "outputs": [],
   "source": [
    "data = load_breast_cancer(as_frame=True)"
   ]
  },
  {
   "cell_type": "code",
   "execution_count": 266,
   "metadata": {},
   "outputs": [],
   "source": [
    "df = pd.concat([data.data, pd.DataFrame({\"target\":data.target})], axis=1)"
   ]
  },
  {
   "cell_type": "code",
   "execution_count": 267,
   "metadata": {},
   "outputs": [],
   "source": [
    "# data = [[x, y] for x, y in zip(data.data, data.target)]"
   ]
  },
  {
   "cell_type": "code",
   "execution_count": 268,
   "metadata": {},
   "outputs": [],
   "source": [
    "# train, test = train_test_split(df, test_size=0.2)"
   ]
  },
  {
   "cell_type": "code",
   "execution_count": 269,
   "metadata": {},
   "outputs": [],
   "source": [
    "def extract_data(data_frame):\n",
    "    return(np.asarray(data_frame.drop([\"target\"], axis=1)), np.asarray(data_frame[\"target\"]))\n"
   ]
  },
  {
   "cell_type": "code",
   "execution_count": 270,
   "metadata": {},
   "outputs": [],
   "source": [
    "x, y = extract_data(df)\n",
    "# x_test, y_test = extract_data(test)"
   ]
  },
  {
   "cell_type": "code",
   "execution_count": 358,
   "metadata": {},
   "outputs": [
    {
     "data": {
      "text/plain": [
       "(569, 30)"
      ]
     },
     "execution_count": 358,
     "metadata": {},
     "output_type": "execute_result"
    }
   ],
   "source": [
    "x.shape"
   ]
  },
  {
   "cell_type": "code",
   "execution_count": 393,
   "metadata": {},
   "outputs": [
    {
     "data": {
      "text/plain": [
       "1.0"
      ]
     },
     "execution_count": 393,
     "metadata": {},
     "output_type": "execute_result"
    }
   ],
   "source": [
    "accuracies = []\n",
    "kfold = KFold(n_splits=5)\n",
    "for i, (train_index, test_index) in enumerate(kfold.split(x)):\n",
    "    accuraciesI = []\n",
    "    for a in it.product(range(10, 101, 10), ['gini', 'entropy', 'log_loss']):\n",
    "        accuraciesH = []\n",
    "        kfold1 = KFold(n_splits=5)\n",
    "        for j, (train_index1, test_index1) in enumerate(kfold1.split(x[train_index])):\n",
    "            model = DecisionTreeClassifier(max_depth=a[0], criterion=a[1])\n",
    "            model.fit(x[train_index][train_index1], y[train_index][train_index1])\n",
    "            acc = accuracy_score(y[train_index][test_index1], model.predict(x[train_index][test_index1]))\n",
    "            accuraciesH.append(acc)\n",
    "        accuraciesI.append([a, np.mean(accuraciesH)])\n",
    "    a = accuraciesI[np.argmax(np.transpose(np.asarray(accuraciesI, dtype=object))[1])][0]\n",
    "    model = DecisionTreeClassifier(max_depth=a[0], criterion=a[1])\n",
    "    model.fit(x[train_index], y[train_index])\n",
    "    accuracies.append([a,accuracy_score(y[train_index], model.predict(x[train_index]))])\n",
    "np.mean(np.transpose(np.asarray(accuracies, dtype=object))[1])\n",
    "    "
   ]
  },
  {
   "cell_type": "code",
   "execution_count": 274,
   "metadata": {},
   "outputs": [
    {
     "data": {
      "text/plain": [
       "[[(10, 'gini', 0.01), 0.9846153846153847],\n",
       " [(20, 'log_loss', 0.001), 1.0],\n",
       " [(20, 'log_loss', 0.001), 1.0],\n",
       " [(60, 'gini', 0.0), 1.0],\n",
       " [(40, 'log_loss', 0.01), 0.9824561403508771]]"
      ]
     },
     "execution_count": 274,
     "metadata": {},
     "output_type": "execute_result"
    }
   ],
   "source": [
    "accuracies"
   ]
  },
  {
   "cell_type": "code",
   "execution_count": 381,
   "metadata": {},
   "outputs": [
    {
     "data": {
      "text/plain": [
       "(10, 'log_loss')"
      ]
     },
     "execution_count": 381,
     "metadata": {},
     "output_type": "execute_result"
    }
   ],
   "source": [
    "max_a = accuracies[np.argmax(np.transpose(np.asarray(accuracies, dtype=object))[1])][0]\n",
    "max_a"
   ]
  },
  {
   "cell_type": "code",
   "execution_count": 392,
   "metadata": {},
   "outputs": [
    {
     "data": {
      "text/plain": [
       "0.8942731277533039"
      ]
     },
     "execution_count": 392,
     "metadata": {},
     "output_type": "execute_result"
    }
   ],
   "source": [
    "model = DecisionTreeClassifier(max_depth=max_a[0], criterion=max_a[1])\n",
    "model.fit(x[0:113], y[0:113])\n",
    "accuracy_score(y[114:568], model.predict(x[114:568]))"
   ]
  }
 ],
 "metadata": {
  "kernelspec": {
   "display_name": "Python 3",
   "language": "python",
   "name": "python3"
  },
  "language_info": {
   "codemirror_mode": {
    "name": "ipython",
    "version": 3
   },
   "file_extension": ".py",
   "mimetype": "text/x-python",
   "name": "python",
   "nbconvert_exporter": "python",
   "pygments_lexer": "ipython3",
   "version": "3.10.5"
  },
  "orig_nbformat": 4
 },
 "nbformat": 4,
 "nbformat_minor": 2
}
