{
 "cells": [
  {
   "cell_type": "code",
   "execution_count": 318,
   "metadata": {},
   "outputs": [],
   "source": [
    "import pandas as pd\n",
    "import numpy as np\n",
    "import itertools as it\n",
    "from sklearn.tree import DecisionTreeClassifier\n",
    "from sklearn.model_selection import train_test_split\n",
    "from sklearn.metrics import accuracy_score\n"
   ]
  },
  {
   "cell_type": "code",
   "execution_count": 319,
   "metadata": {},
   "outputs": [],
   "source": [
    "data = pd.read_csv(\"train.csv\")\n",
    "submission_input = pd.read_csv(\"test.csv\")"
   ]
  },
  {
   "cell_type": "code",
   "execution_count": 320,
   "metadata": {},
   "outputs": [
    {
     "name": "stdout",
     "output_type": "stream",
     "text": [
      "   PassengerId  Survived  Pclass  \\\n",
      "0            1         0       3   \n",
      "1            2         1       1   \n",
      "2            3         1       3   \n",
      "3            4         1       1   \n",
      "4            5         0       3   \n",
      "\n",
      "                                                Name     Sex   Age  SibSp  \\\n",
      "0                            Braund, Mr. Owen Harris    male  22.0      1   \n",
      "1  Cumings, Mrs. John Bradley (Florence Briggs Th...  female  38.0      1   \n",
      "2                             Heikkinen, Miss. Laina  female  26.0      0   \n",
      "3       Futrelle, Mrs. Jacques Heath (Lily May Peel)  female  35.0      1   \n",
      "4                           Allen, Mr. William Henry    male  35.0      0   \n",
      "\n",
      "   Parch            Ticket     Fare Cabin Embarked  \n",
      "0      0         A/5 21171   7.2500   NaN        S  \n",
      "1      0          PC 17599  71.2833   C85        C  \n",
      "2      0  STON/O2. 3101282   7.9250   NaN        S  \n",
      "3      0            113803  53.1000  C123        S  \n",
      "4      0            373450   8.0500   NaN        S  \n",
      "891\n"
     ]
    }
   ],
   "source": [
    "print(data.head())\n",
    "print(len(data.Parch))"
   ]
  },
  {
   "cell_type": "code",
   "execution_count": 321,
   "metadata": {},
   "outputs": [],
   "source": [
    "def convert_cabin(x):\n",
    "    if x != x:\n",
    "        return 0\n",
    "    return ord(x[0]) - ord('B')\n",
    "\n",
    "def convert_embarked(x):\n",
    "    if x == 'Q':\n",
    "        return 1\n",
    "    if x == 'S':\n",
    "        return 2\n",
    "    return 0\n"
   ]
  },
  {
   "cell_type": "code",
   "execution_count": 322,
   "metadata": {},
   "outputs": [],
   "source": [
    "def clean(data_frame: pd.DataFrame):\n",
    "    data_frame.drop(['Name','Ticket', 'PassengerId','Cabin', 'Embarked', 'Fare'], axis=1, inplace=True)\n",
    "    data_frame.dropna()\n",
    "    data_frame.Age = data_frame.Age.fillna(data_frame.Age.median())\n",
    "    data_frame.Sex = pd.get_dummies(data_frame.Sex, drop_first=True)\n",
    "   \n"
   ]
  },
  {
   "cell_type": "code",
   "execution_count": 323,
   "metadata": {},
   "outputs": [],
   "source": [
    "pId = submission_input.PassengerId\n",
    "clean(submission_input)\n",
    "clean(data)"
   ]
  },
  {
   "cell_type": "code",
   "execution_count": 324,
   "metadata": {},
   "outputs": [
    {
     "name": "stdout",
     "output_type": "stream",
     "text": [
      "   Survived  Pclass  Sex   Age  SibSp  Parch\n",
      "0         0       3    1  22.0      1      0\n",
      "1         1       1    0  38.0      1      0\n",
      "2         1       3    0  26.0      0      0\n",
      "3         1       1    0  35.0      1      0\n",
      "4         0       3    1  35.0      0      0\n",
      "891\n"
     ]
    }
   ],
   "source": [
    "print(data.head())\n",
    "print(len(data.Parch))"
   ]
  },
  {
   "cell_type": "code",
   "execution_count": 325,
   "metadata": {},
   "outputs": [],
   "source": [
    "def shuffled_data(data):\n",
    "    data = data.sample(frac=1)\n",
    "    train, test = train_test_split(data, test_size=0.2)\n",
    "    return (train.drop(['Survived'],axis=1),train['Survived'],test.drop(['Survived'], axis=1),test['Survived'])"
   ]
  },
  {
   "cell_type": "code",
   "execution_count": 326,
   "metadata": {},
   "outputs": [],
   "source": [
    "accuracies = {}"
   ]
  },
  {
   "cell_type": "code",
   "execution_count": 327,
   "metadata": {},
   "outputs": [],
   "source": [
    "def train_model(m,c,k):\n",
    "    model = DecisionTreeClassifier(max_depth=m,criterion=c,min_weight_fraction_leaf=k)\n",
    "    x, y, test_x, test_y = shuffled_data(data)\n",
    "    model.fit(x, y)\n",
    "    pre = model.predict(test_x)\n",
    "    return accuracy_score(pre,test_y)"
   ]
  },
  {
   "cell_type": "code",
   "execution_count": 328,
   "metadata": {},
   "outputs": [],
   "source": [
    "for a in it.product(range(1,10),['gini', 'entropy', 'log_loss'],[0.0, 0.001,0.01, 0.1]):\n",
    "    res = [train_model(*a) for _ in range(0,10)]\n",
    "    accuracies[a] = [np.average(res), np.median(res)]\n"
   ]
  },
  {
   "cell_type": "code",
   "execution_count": 329,
   "metadata": {},
   "outputs": [
    {
     "name": "stdout",
     "output_type": "stream",
     "text": [
      "((1, 'gini', 0.0), [0.7849162011173185, 0.7793296089385475])\n",
      "((1, 'gini', 0.001), [0.7793296089385475, 0.7793296089385475])\n",
      "((1, 'gini', 0.01), [0.782122905027933, 0.7905027932960894])\n",
      "((1, 'gini', 0.1), [0.7804469273743017, 0.776536312849162])\n",
      "((1, 'entropy', 0.0), [0.777094972067039, 0.7681564245810055])\n",
      "((1, 'entropy', 0.001), [0.7932960893854749, 0.7960893854748603])\n",
      "((1, 'entropy', 0.01), [0.78268156424581, 0.7877094972067039])\n",
      "((1, 'entropy', 0.1), [0.78268156424581, 0.7737430167597765])\n",
      "((1, 'log_loss', 0.0), [0.788268156424581, 0.7932960893854749])\n",
      "((1, 'log_loss', 0.001), [0.7893854748603352, 0.7877094972067039])\n",
      "((1, 'log_loss', 0.01), [0.8, 0.8016759776536313])\n",
      "((1, 'log_loss', 0.1), [0.7905027932960894, 0.7877094972067039])\n",
      "((2, 'gini', 0.0), [0.7670391061452514, 0.7653631284916201])\n",
      "((2, 'gini', 0.001), [0.7787709497206704, 0.7849162011173184])\n",
      "((2, 'gini', 0.01), [0.7860335195530727, 0.7932960893854748])\n",
      "((2, 'gini', 0.1), [0.7787709497206704, 0.776536312849162])\n",
      "((2, 'entropy', 0.0), [0.7703910614525139, 0.7681564245810055])\n",
      "((2, 'entropy', 0.001), [0.777094972067039, 0.7793296089385475])\n",
      "((2, 'entropy', 0.01), [0.7675977653631284, 0.7737430167597765])\n",
      "((2, 'entropy', 0.1), [0.7798882681564245, 0.770949720670391])\n",
      "((2, 'log_loss', 0.0), [0.7865921787709496, 0.782122905027933])\n",
      "((2, 'log_loss', 0.001), [0.770949720670391, 0.7625698324022346])\n",
      "((2, 'log_loss', 0.01), [0.771508379888268, 0.7653631284916201])\n",
      "((2, 'log_loss', 0.1), [0.7793296089385475, 0.776536312849162])\n",
      "((3, 'gini', 0.0), [0.8039106145251397, 0.8072625698324023])\n",
      "((3, 'gini', 0.001), [0.8005586592178771, 0.7960893854748603])\n",
      "((3, 'gini', 0.01), [0.7804469273743017, 0.7877094972067039])\n",
      "((3, 'gini', 0.1), [0.7815642458100559, 0.7821229050279329])\n",
      "((3, 'entropy', 0.0), [0.7810055865921788, 0.7793296089385475])\n",
      "((3, 'entropy', 0.001), [0.7798882681564245, 0.7625698324022346])\n",
      "((3, 'entropy', 0.01), [0.7837988826815643, 0.770949720670391])\n",
      "((3, 'entropy', 0.1), [0.7843575418994414, 0.7877094972067039])\n",
      "((3, 'log_loss', 0.0), [0.7932960893854748, 0.7932960893854749])\n",
      "((3, 'log_loss', 0.001), [0.7949720670391061, 0.7905027932960894])\n",
      "((3, 'log_loss', 0.01), [0.7905027932960893, 0.7932960893854749])\n",
      "((3, 'log_loss', 0.1), [0.7843575418994413, 0.776536312849162])\n",
      "((4, 'gini', 0.0), [0.8033519553072626, 0.8072625698324023])\n",
      "((4, 'gini', 0.001), [0.811731843575419, 0.8016759776536313])\n",
      "((4, 'gini', 0.01), [0.8106145251396647, 0.8072625698324023])\n",
      "((4, 'gini', 0.1), [0.7972067039106145, 0.7988826815642458])\n",
      "((4, 'entropy', 0.0), [0.811731843575419, 0.8156424581005587])\n",
      "((4, 'entropy', 0.001), [0.8078212290502794, 0.8128491620111732])\n",
      "((4, 'entropy', 0.01), [0.8039106145251397, 0.8156424581005587])\n",
      "((4, 'entropy', 0.1), [0.7849162011173185, 0.7849162011173184])\n",
      "((4, 'log_loss', 0.0), [0.829608938547486, 0.8379888268156425])\n",
      "((4, 'log_loss', 0.001), [0.8100558659217878, 0.8072625698324023])\n",
      "((4, 'log_loss', 0.01), [0.8111731843575418, 0.8100558659217877])\n",
      "((4, 'log_loss', 0.1), [0.7759776536312849, 0.7737430167597765])\n",
      "((5, 'gini', 0.0), [0.8184357541899441, 0.8156424581005586])\n",
      "((5, 'gini', 0.001), [0.7977653631284916, 0.7960893854748603])\n",
      "((5, 'gini', 0.01), [0.8145251396648044, 0.8212290502793296])\n",
      "((5, 'gini', 0.1), [0.7837988826815643, 0.7877094972067039])\n",
      "((5, 'entropy', 0.0), [0.8150837988826816, 0.8156424581005587])\n",
      "((5, 'entropy', 0.001), [0.8312849162011174, 0.8379888268156425])\n",
      "((5, 'entropy', 0.01), [0.8044692737430168, 0.8044692737430168])\n",
      "((5, 'entropy', 0.1), [0.7597765363128492, 0.7625698324022346])\n",
      "((5, 'log_loss', 0.0), [0.8340782122905029, 0.8379888268156425])\n",
      "((5, 'log_loss', 0.001), [0.8078212290502794, 0.8072625698324023])\n",
      "((5, 'log_loss', 0.01), [0.8122905027932961, 0.8128491620111732])\n",
      "((5, 'log_loss', 0.1), [0.7893854748603352, 0.7877094972067039])\n",
      "((6, 'gini', 0.0), [0.7932960893854748, 0.7988826815642458])\n",
      "((6, 'gini', 0.001), [0.8100558659217876, 0.8016759776536313])\n",
      "((6, 'gini', 0.01), [0.7960893854748603, 0.7905027932960894])\n",
      "((6, 'gini', 0.1), [0.7731843575418995, 0.776536312849162])\n",
      "((6, 'entropy', 0.0), [0.8067039106145251, 0.8156424581005587])\n",
      "((6, 'entropy', 0.001), [0.8178770949720671, 0.8184357541899441])\n",
      "((6, 'entropy', 0.01), [0.8167597765363128, 0.8184357541899441])\n",
      "((6, 'entropy', 0.1), [0.7631284916201116, 0.7597765363128491])\n",
      "((6, 'log_loss', 0.0), [0.8005586592178771, 0.7905027932960894])\n",
      "((6, 'log_loss', 0.001), [0.8167597765363128, 0.8100558659217878])\n",
      "((6, 'log_loss', 0.01), [0.8083798882681565, 0.7988826815642458])\n",
      "((6, 'log_loss', 0.1), [0.7743016759776535, 0.7737430167597765])\n",
      "((7, 'gini', 0.0), [0.793854748603352, 0.8016759776536313])\n",
      "((7, 'gini', 0.001), [0.7893854748603353, 0.7737430167597765])\n",
      "((7, 'gini', 0.01), [0.8251396648044693, 0.8212290502793296])\n",
      "((7, 'gini', 0.1), [0.7675977653631284, 0.7625698324022346])\n",
      "((7, 'entropy', 0.0), [0.7854748603351955, 0.7960893854748603])\n",
      "((7, 'entropy', 0.001), [0.7972067039106145, 0.7988826815642458])\n",
      "((7, 'entropy', 0.01), [0.8044692737430168, 0.8100558659217877])\n",
      "((7, 'entropy', 0.1), [0.7664804469273743, 0.7597765363128491])\n",
      "((7, 'log_loss', 0.0), [0.8078212290502794, 0.8100558659217877])\n",
      "((7, 'log_loss', 0.001), [0.8145251396648044, 0.8240223463687151])\n",
      "((7, 'log_loss', 0.01), [0.8150837988826817, 0.8072625698324023])\n",
      "((7, 'log_loss', 0.1), [0.7776536312849162, 0.776536312849162])\n",
      "((8, 'gini', 0.0), [0.8022346368715084, 0.8044692737430168])\n",
      "((8, 'gini', 0.001), [0.8011173184357542, 0.7988826815642458])\n",
      "((8, 'gini', 0.01), [0.8128491620111731, 0.8100558659217877])\n",
      "((8, 'gini', 0.1), [0.7743016759776535, 0.770949720670391])\n",
      "((8, 'entropy', 0.0), [0.8178770949720671, 0.8156424581005587])\n",
      "((8, 'entropy', 0.001), [0.7960893854748603, 0.7905027932960894])\n",
      "((8, 'entropy', 0.01), [0.806145251396648, 0.8100558659217878])\n",
      "((8, 'entropy', 0.1), [0.7871508379888269, 0.7849162011173184])\n",
      "((8, 'log_loss', 0.0), [0.8050279329608939, 0.8044692737430168])\n",
      "((8, 'log_loss', 0.001), [0.7921787709497208, 0.7905027932960894])\n",
      "((8, 'log_loss', 0.01), [0.8011173184357542, 0.8072625698324023])\n",
      "((8, 'log_loss', 0.1), [0.7737430167597765, 0.776536312849162])\n",
      "((9, 'gini', 0.0), [0.7865921787709498, 0.7793296089385475])\n",
      "((9, 'gini', 0.001), [0.7972067039106147, 0.8016759776536313])\n",
      "((9, 'gini', 0.01), [0.805586592178771, 0.8016759776536313])\n",
      "((9, 'gini', 0.1), [0.7787709497206704, 0.7681564245810055])\n",
      "((9, 'entropy', 0.0), [0.794413407821229, 0.7988826815642458])\n",
      "((9, 'entropy', 0.001), [0.7798882681564245, 0.7793296089385475])\n",
      "((9, 'entropy', 0.01), [0.8284916201117319, 0.8296089385474861])\n",
      "((9, 'entropy', 0.1), [0.7921787709497206, 0.7932960893854749])\n",
      "((9, 'log_loss', 0.0), [0.7782122905027933, 0.7681564245810055])\n",
      "((9, 'log_loss', 0.001), [0.8100558659217876, 0.8072625698324023])\n",
      "((9, 'log_loss', 0.01), [0.8016759776536313, 0.7988826815642458])\n",
      "((9, 'log_loss', 0.1), [0.7625698324022347, 0.7681564245810055])\n"
     ]
    }
   ],
   "source": [
    "for k in accuracies.items():\n",
    "    print(k)"
   ]
  },
  {
   "cell_type": "code",
   "execution_count": 392,
   "metadata": {},
   "outputs": [
    {
     "data": {
      "text/plain": [
       "0.9050279329608939"
      ]
     },
     "execution_count": 392,
     "metadata": {},
     "output_type": "execute_result"
    }
   ],
   "source": [
    "acc = 0\n",
    "model = DecisionTreeClassifier(max_depth=6,criterion='entropy',min_weight_fraction_leaf=0.01)\n",
    "while(acc < 0.9):\n",
    "    x, y, x_test, y_test = shuffled_data(data)\n",
    "    model.fit(x,y)\n",
    "    pre = model.predict(x_test)\n",
    "    acc = accuracy_score(pre,y_test)\n",
    "acc"
   ]
  },
  {
   "cell_type": "code",
   "execution_count": 403,
   "metadata": {},
   "outputs": [
    {
     "data": {
      "text/plain": [
       "0.8547486033519553"
      ]
     },
     "execution_count": 403,
     "metadata": {},
     "output_type": "execute_result"
    }
   ],
   "source": [
    "x, y, x_test, y_test = shuffled_data(data)\n",
    "# model.fit(x,y)\n",
    "pre = model.predict(x_test)\n",
    "accuracy_score(pre,y_test)"
   ]
  },
  {
   "cell_type": "code",
   "execution_count": null,
   "metadata": {},
   "outputs": [],
   "source": [
    "submission = pd.DataFrame({\"PassengerId\":pId, \"Survived\":model.predict(submission_input)})"
   ]
  },
  {
   "cell_type": "code",
   "execution_count": null,
   "metadata": {},
   "outputs": [],
   "source": [
    "submission.to_csv(\"submission.csv\", mode='w', index=False)"
   ]
  },
  {
   "cell_type": "code",
   "execution_count": null,
   "metadata": {},
   "outputs": [
    {
     "data": {
      "text/html": [
       "<div>\n",
       "<style scoped>\n",
       "    .dataframe tbody tr th:only-of-type {\n",
       "        vertical-align: middle;\n",
       "    }\n",
       "\n",
       "    .dataframe tbody tr th {\n",
       "        vertical-align: top;\n",
       "    }\n",
       "\n",
       "    .dataframe thead th {\n",
       "        text-align: right;\n",
       "    }\n",
       "</style>\n",
       "<table border=\"1\" class=\"dataframe\">\n",
       "  <thead>\n",
       "    <tr style=\"text-align: right;\">\n",
       "      <th></th>\n",
       "      <th>PassengerId</th>\n",
       "      <th>Survived</th>\n",
       "    </tr>\n",
       "  </thead>\n",
       "  <tbody>\n",
       "    <tr>\n",
       "      <th>0</th>\n",
       "      <td>892</td>\n",
       "      <td>0</td>\n",
       "    </tr>\n",
       "    <tr>\n",
       "      <th>1</th>\n",
       "      <td>893</td>\n",
       "      <td>0</td>\n",
       "    </tr>\n",
       "    <tr>\n",
       "      <th>2</th>\n",
       "      <td>894</td>\n",
       "      <td>0</td>\n",
       "    </tr>\n",
       "    <tr>\n",
       "      <th>3</th>\n",
       "      <td>895</td>\n",
       "      <td>0</td>\n",
       "    </tr>\n",
       "    <tr>\n",
       "      <th>4</th>\n",
       "      <td>896</td>\n",
       "      <td>1</td>\n",
       "    </tr>\n",
       "    <tr>\n",
       "      <th>...</th>\n",
       "      <td>...</td>\n",
       "      <td>...</td>\n",
       "    </tr>\n",
       "    <tr>\n",
       "      <th>413</th>\n",
       "      <td>1305</td>\n",
       "      <td>0</td>\n",
       "    </tr>\n",
       "    <tr>\n",
       "      <th>414</th>\n",
       "      <td>1306</td>\n",
       "      <td>1</td>\n",
       "    </tr>\n",
       "    <tr>\n",
       "      <th>415</th>\n",
       "      <td>1307</td>\n",
       "      <td>0</td>\n",
       "    </tr>\n",
       "    <tr>\n",
       "      <th>416</th>\n",
       "      <td>1308</td>\n",
       "      <td>0</td>\n",
       "    </tr>\n",
       "    <tr>\n",
       "      <th>417</th>\n",
       "      <td>1309</td>\n",
       "      <td>0</td>\n",
       "    </tr>\n",
       "  </tbody>\n",
       "</table>\n",
       "<p>418 rows × 2 columns</p>\n",
       "</div>"
      ],
      "text/plain": [
       "     PassengerId  Survived\n",
       "0            892         0\n",
       "1            893         0\n",
       "2            894         0\n",
       "3            895         0\n",
       "4            896         1\n",
       "..           ...       ...\n",
       "413         1305         0\n",
       "414         1306         1\n",
       "415         1307         0\n",
       "416         1308         0\n",
       "417         1309         0\n",
       "\n",
       "[418 rows x 2 columns]"
      ]
     },
     "execution_count": 296,
     "metadata": {},
     "output_type": "execute_result"
    }
   ],
   "source": [
    "submission"
   ]
  }
 ],
 "metadata": {
  "kernelspec": {
   "display_name": "Python 3",
   "language": "python",
   "name": "python3"
  },
  "language_info": {
   "codemirror_mode": {
    "name": "ipython",
    "version": 3
   },
   "file_extension": ".py",
   "mimetype": "text/x-python",
   "name": "python",
   "nbconvert_exporter": "python",
   "pygments_lexer": "ipython3",
   "version": "3.10.5"
  },
  "orig_nbformat": 4
 },
 "nbformat": 4,
 "nbformat_minor": 2
}
